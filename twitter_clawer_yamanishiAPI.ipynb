{
 "cells": [
  {
   "cell_type": "code",
   "execution_count": 4,
   "id": "08a2b6fb",
   "metadata": {},
   "outputs": [
    {
     "name": "stdout",
     "output_type": "stream",
     "text": [
      "Requirement already satisfied: tweepy in c:\\users\\yumem\\anaconda3\\envs\\downgrade3.7\\lib\\site-packages (4.4.0)\n",
      "Requirement already satisfied: requests-oauthlib<2,>=1.0.0 in c:\\users\\yumem\\anaconda3\\envs\\downgrade3.7\\lib\\site-packages (from tweepy) (1.3.0)\n",
      "Requirement already satisfied: requests<3,>=2.11.1 in c:\\users\\yumem\\anaconda3\\envs\\downgrade3.7\\lib\\site-packages (from tweepy) (2.26.0)\n",
      "Requirement already satisfied: charset-normalizer~=2.0.0 in c:\\users\\yumem\\anaconda3\\envs\\downgrade3.7\\lib\\site-packages (from requests<3,>=2.11.1->tweepy) (2.0.4)\n",
      "Requirement already satisfied: urllib3<1.27,>=1.21.1 in c:\\users\\yumem\\anaconda3\\envs\\downgrade3.7\\lib\\site-packages (from requests<3,>=2.11.1->tweepy) (1.26.7)\n",
      "Requirement already satisfied: certifi>=2017.4.17 in c:\\users\\yumem\\anaconda3\\envs\\downgrade3.7\\lib\\site-packages (from requests<3,>=2.11.1->tweepy) (2021.10.8)\n",
      "Requirement already satisfied: idna<4,>=2.5 in c:\\users\\yumem\\anaconda3\\envs\\downgrade3.7\\lib\\site-packages (from requests<3,>=2.11.1->tweepy) (3.2)\n",
      "Requirement already satisfied: oauthlib>=3.0.0 in c:\\users\\yumem\\anaconda3\\envs\\downgrade3.7\\lib\\site-packages (from requests-oauthlib<2,>=1.0.0->tweepy) (3.1.1)\n",
      "Note: you may need to restart the kernel to use updated packages.\n"
     ]
    }
   ],
   "source": [
    "pip install tweepy"
   ]
  },
  {
   "cell_type": "code",
   "execution_count": 1,
   "id": "dbe05fe2",
   "metadata": {},
   "outputs": [
    {
     "name": "stdout",
     "output_type": "stream",
     "text": [
      "Requirement already satisfied: tweepy==3.10.0 in c:\\users\\yumem\\anaconda3\\envs\\downgrade3.7\\lib\\site-packages (3.10.0)\n",
      "Requirement already satisfied: requests[socks]>=2.11.1 in c:\\users\\yumem\\anaconda3\\envs\\downgrade3.7\\lib\\site-packages (from tweepy==3.10.0) (2.26.0)\n",
      "Requirement already satisfied: requests-oauthlib>=0.7.0 in c:\\users\\yumem\\anaconda3\\envs\\downgrade3.7\\lib\\site-packages (from tweepy==3.10.0) (1.3.0)\n",
      "Requirement already satisfied: six>=1.10.0 in c:\\users\\yumem\\anaconda3\\envs\\downgrade3.7\\lib\\site-packages (from tweepy==3.10.0) (1.16.0)\n",
      "Requirement already satisfied: oauthlib>=3.0.0 in c:\\users\\yumem\\anaconda3\\envs\\downgrade3.7\\lib\\site-packages (from requests-oauthlib>=0.7.0->tweepy==3.10.0) (3.1.1)\n",
      "Requirement already satisfied: charset-normalizer~=2.0.0 in c:\\users\\yumem\\anaconda3\\envs\\downgrade3.7\\lib\\site-packages (from requests[socks]>=2.11.1->tweepy==3.10.0) (2.0.4)\n",
      "Requirement already satisfied: certifi>=2017.4.17 in c:\\users\\yumem\\anaconda3\\envs\\downgrade3.7\\lib\\site-packages (from requests[socks]>=2.11.1->tweepy==3.10.0) (2021.10.8)\n",
      "Requirement already satisfied: urllib3<1.27,>=1.21.1 in c:\\users\\yumem\\anaconda3\\envs\\downgrade3.7\\lib\\site-packages (from requests[socks]>=2.11.1->tweepy==3.10.0) (1.26.7)\n",
      "Requirement already satisfied: idna<4,>=2.5 in c:\\users\\yumem\\anaconda3\\envs\\downgrade3.7\\lib\\site-packages (from requests[socks]>=2.11.1->tweepy==3.10.0) (3.2)\n",
      "Requirement already satisfied: PySocks!=1.5.7,>=1.5.6 in c:\\users\\yumem\\anaconda3\\envs\\downgrade3.7\\lib\\site-packages (from requests[socks]>=2.11.1->tweepy==3.10.0) (1.7.1)\n",
      "Note: you may need to restart the kernel to use updated packages.\n"
     ]
    }
   ],
   "source": [
    "pip install tweepy==3.10.0"
   ]
  },
  {
   "cell_type": "code",
   "execution_count": null,
   "id": "7b940575",
   "metadata": {},
   "outputs": [
    {
     "name": "stdout",
     "output_type": "stream",
     "text": [
      "Write 7806 pairs.\n"
     ]
    }
   ],
   "source": [
    "import tweepy\n",
    "import random\n",
    "import re\n",
    "\n",
    "\n",
    "while True:\n",
    "    # ここに先程取得したAPIキーとトークンを入力\n",
    "    api_key = \"ZaPpmeSggAhZdeadiQExxt43L\"\n",
    "    api_secret_key = \"5uDRGLKQiUTyFmCfrrPdm1g6vn5quuOvUXT3KN47XZ7wbufGaD\"\n",
    "    access_token = \"1456182606437883908-8A0bbfakuMxiQAqCpjSdtXcJ9ZZj17\"\n",
    "    access_token_secret = \"n21djMVOYWvhAmJzxP3VmM8bbjsQmndKApiztfs32bRoV\"\n",
    "\n",
    "    auth = tweepy.OAuthHandler(api_key, api_secret_key)\n",
    "    auth.set_access_token(access_token, access_token_secret)\n",
    "    api = tweepy.API(auth_handler=auth, wait_on_rate_limit=True)\n",
    "\n",
    "    # botのツイートを除外するため，一般的なクライアント名を列挙\n",
    "    sources = [\"TweetDeck\", \"Twitter Web Client\", \"Twitter for iPhone\",\n",
    "               \"Twitter for iPad\", \"Twitter for Android\", \"Twitter for Android Tablets\",\n",
    "               \"ついっぷる\", \"Janetter\", \"twicca\", \"Keitai Web\", \"Twitter for Mac\"]\n",
    "\n",
    "\n",
    "    # ひらがな一文字で検索し，スクリーンネームを取得\n",
    "    words = list(\"あいうえおかきくけこさしすせそたちつてとなにぬねのはひふへほまみむめもやゆよらりるれろわをん\")\n",
    "\n",
    "    screen_names = set()\n",
    "    for s in api.search(q=random.choice(words), lang='ja', result_type='recent', count=100, tweet_mode='extended'):\n",
    "        if s.source in sources:\n",
    "            screen_names.add(s.author.screen_name)\n",
    "\n",
    "    # ステータスidからステータスを得るためのdict\n",
    "    id2status = {}\n",
    "\n",
    "    # スクリーンネームからタイムラインを取得してツイートを保存．\n",
    "    # さらにリプライツイートであれば，リプライ先のスクリーンネームも取得\n",
    "    in_reply_to_screen_names = set()\n",
    "    for name in screen_names:\n",
    "        try:\n",
    "            for s in api.user_timeline(name, tweet_mode='extended', count=200):\n",
    "                # リンクもしくはハッシュタグを含むツイートは除外する\n",
    "                if \"http\" not in s.full_text and \"#\" not in s.full_text:\n",
    "                    id2status[s.id] = s\n",
    "                    if s.in_reply_to_screen_name is not None:\n",
    "                        if s.in_reply_to_screen_name not in screen_names:\n",
    "                            in_reply_to_screen_names.add(s.in_reply_to_screen_name)\n",
    "        except Exception as e:\n",
    "            continue\n",
    "\n",
    "    # リプライ先のスクリーンネームからタイムラインを取得してツイートを保存\n",
    "    for name in in_reply_to_screen_names:\n",
    "        try:\n",
    "            for s in api.user_timeline(name, tweet_mode='extended', count=200):\n",
    "                if \"http\" not in s.full_text and \"#\" not in s.full_text:\n",
    "                    id2status[s.id] = s\n",
    "        except Exception as e:\n",
    "            continue\n",
    "\n",
    "    # 保存したツイートのリプライ先のツイートが保存されていれば，id2replyidのキーを元ツイートのid，値をリプライ先ツイートのidとする\n",
    "    id2replyid = {}\n",
    "    for _, s in id2status.items():\n",
    "        if s.in_reply_to_status_id in id2status:\n",
    "            id2replyid[s.in_reply_to_status_id] = s.id\n",
    "\n",
    "\n",
    "    # id2replyidのkey valueからstatusを取得し，ツイートペアをタブ区切りで保存\n",
    "    f = open(\"tweet_pairs11.txt\", \"a\",encoding=\"utf-8_sig\")\n",
    "    for id, rid in id2replyid.items():\n",
    "        # 改行は半角スペースに置換\n",
    "        tweet1 = id2status[id].full_text.replace(\"\\n\", \" \")\n",
    "        # スクリーンネームを正規表現を用いて削除\n",
    "        tweet1 = re.sub(r\"@[0-9a-zA-Z_]{1,15} +\", \"\", tweet1)\n",
    "\n",
    "        tweet2 = id2status[rid].full_text.replace(\"\\n\", \" \")\n",
    "        tweet2 = re.sub(r\"@[0-9a-zA-Z_]{1,15} +\", \"\", tweet2)\n",
    "\n",
    "        f.write(tweet1+ \"\\t\" + tweet2 + \"\\n\")\n",
    "    f.close()\n",
    "    print(\"Write \" + str(len(id2replyid)) + \" pairs.\")\n",
    "\n",
    "\n",
    "    # ツイート3組をタブ区切りで保存\n",
    "    # f = open(\"tweet_triples.txt\", \"a\")\n",
    "    # for id, rid in id2replyid.items():\n",
    "    #     if rid in id2replyid:\n",
    "    #         tweet1 = id2status[id].full_text.replace(\"\\n\", \" \")\n",
    "    #         tweet1 = re.sub(r\"@[0-9a-zA-Z_]{1,15} +\", \"\", tweet1)\n",
    "\n",
    "    #         tweet2 = id2status[rid].full_text.replace(\"\\n\", \" \")\n",
    "    #         tweet2 = re.sub(r\"@[0-9a-zA-Z_]{1,15} +\", \"\", tweet2)\n",
    "\n",
    "    #         tweet3 =  id2status[id2replyid[rid]].full_text.replace(\"\\n\", \" \")\n",
    "    #         tweet3 = re.sub(r\"@[0-9a-zA-Z_]{1,15} +\", \"\", tweet3)\n",
    "    #         f.write(tweet1 + \" SEP \" + tweet2 + \"\\t\" + tweet3 + \"\\n\")\n",
    "    # f.close()\n"
   ]
  },
  {
   "cell_type": "code",
   "execution_count": null,
   "id": "d9541a12",
   "metadata": {},
   "outputs": [],
   "source": []
  }
 ],
 "metadata": {
  "kernelspec": {
   "display_name": "Python 3 (ipykernel)",
   "language": "python",
   "name": "python3"
  },
  "language_info": {
   "codemirror_mode": {
    "name": "ipython",
    "version": 3
   },
   "file_extension": ".py",
   "mimetype": "text/x-python",
   "name": "python",
   "nbconvert_exporter": "python",
   "pygments_lexer": "ipython3",
   "version": "3.9.7"
  }
 },
 "nbformat": 4,
 "nbformat_minor": 5
}
