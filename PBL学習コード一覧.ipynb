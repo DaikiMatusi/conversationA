{
 "cells": [
  {
   "cell_type": "code",
   "execution_count": 2,
   "id": "2e014f49",
   "metadata": {},
   "outputs": [
    {
     "name": "stderr",
     "output_type": "stream",
     "text": [
      "Cloning into 'OpenNMT-py'...\n",
      "Note: switching to '97ad4c66997d6d4d80290f66ddc3f5dab6557ab5'.\n",
      "\n",
      "You are in 'detached HEAD' state. You can look around, make experimental\n",
      "changes and commit them, and you can discard any commits you make in this\n",
      "state without impacting any branches by switching back to a branch.\n",
      "\n",
      "If you want to create a new branch to retain commits you create, you may\n",
      "do so (now or later) by using -c with the switch command. Example:\n",
      "\n",
      "  git switch -c <new-branch-name>\n",
      "\n",
      "Or undo this operation with:\n",
      "\n",
      "  git switch -\n",
      "\n",
      "Turn off this advice by setting config variable advice.detachedHead to false\n",
      "\n"
     ]
    }
   ],
   "source": [
    "#!git clone https://github.com/OpenNMT/OpenNMT-py.git -b 0.9.2"
   ]
  },
  {
   "cell_type": "code",
   "execution_count": null,
   "id": "0695c448",
   "metadata": {},
   "outputs": [],
   "source": [
    "#!python OpenNMT-py/train.py -gpu_ranks 0 --save_checkpoint_steps 50000 --train_steps 100000 -save_model \"C://Users//yumem//PYTHONDATA/OpenNMT/dlg3_model\" -data dlg"
   ]
  },
  {
   "cell_type": "code",
   "execution_count": 4,
   "id": "adec429c",
   "metadata": {},
   "outputs": [
    {
     "name": "stderr",
     "output_type": "stream",
     "text": [
      "Please backup existing pt files: dlg.train*.pt, to avoid overwriting them!\n"
     ]
    }
   ],
   "source": [
    "!python C://Users//yumem//PYTHONDATA/OpenNMT/OpenNMT-py/preprocess.py -train_src \"C://Users//yumem//PYTHONDATA/OpenNMT/train.src\" -train_tgt \"C://Users//yumem//PYTHONDATA/OpenNMT/train.tgt\" \\\n",
    " -valid_src \"C://Users//yumem//PYTHONDATA/OpenNMT/dev.src\" -valid_tgt \"C://Users//yumem//PYTHONDATA/OpenNMT/dev.tgt\" -save_data dlg "
   ]
  },
  {
   "cell_type": "code",
   "execution_count": null,
   "id": "2c324e2c",
   "metadata": {},
   "outputs": [],
   "source": [
    "!python  C://Users//yumem//PYTHONDATA/OpenNMT/OpenNMT-py/train.py -gpu_ranks 0 --save_checkpoint_steps 100000 --train_steps 200000 -save_model \"C://Users//yumem//PYTHONDATA/OpenNMT/dlg3_model\" -data dlg"
   ]
  },
  {
   "cell_type": "code",
   "execution_count": null,
   "id": "7f851536",
   "metadata": {},
   "outputs": [],
   "source": [
    "#!python OpenNMT-py/train.py -gpu_ranks 0 --save_checkpoint_steps 50000 --train_steps 100000 -save_model \"C://Users//yumem//PYTHONDATA/OpenNMT/dlg3_model\" -data dlg"
   ]
  },
  {
   "cell_type": "code",
   "execution_count": 3,
   "id": "2df8bad8",
   "metadata": {},
   "outputs": [
    {
     "name": "stderr",
     "output_type": "stream",
     "text": [
      "Traceback (most recent call last):\n",
      "  File \"C:\\Users\\yumem\\PYTHONDATA\\OpenNMT\\OpenNMT-py\\train.py\", line 200, in <module>\n",
      "    main(opt)\n",
      "  File \"C:\\Users\\yumem\\PYTHONDATA\\OpenNMT\\OpenNMT-py\\train.py\", line 33, in main\n",
      "    vocab = torch.load(opt.data + '.vocab.pt')\n",
      "  File \"C:\\Users\\yumem\\anaconda3\\envs\\cuda11.3\\lib\\site-packages\\torch\\serialization.py\", line 594, in load\n",
      "    with _open_file_like(f, 'rb') as opened_file:\n",
      "  File \"C:\\Users\\yumem\\anaconda3\\envs\\cuda11.3\\lib\\site-packages\\torch\\serialization.py\", line 230, in _open_file_like\n",
      "    return _open_file(name_or_buffer, mode)\n",
      "  File \"C:\\Users\\yumem\\anaconda3\\envs\\cuda11.3\\lib\\site-packages\\torch\\serialization.py\", line 211, in __init__\n",
      "    super(_open_file, self).__init__(open(name, mode))\n",
      "FileNotFoundError: [Errno 2] No such file or directory: 'dlg3.vocab.pt'\n"
     ]
    }
   ],
   "source": [
    "#!python  C://Users//yumem//PYTHONDATA/OpenNMT/OpenNMT-py/train.py -gpu_ranks 0 --save_checkpoint_steps 100000 --train_steps 200000 -save_model \"C://Users//yumem//PYTHONDATA/OpenNMT/dlg3_model\" -data dlg3"
   ]
  },
  {
   "cell_type": "code",
   "execution_count": 1,
   "id": "bd9822ac",
   "metadata": {},
   "outputs": [
    {
     "name": "stderr",
     "output_type": "stream",
     "text": [
      "C:\\Users\\yumem\\anaconda3\\envs\\cuda11.3\\lib\\site-packages\\torchaudio\\backend\\utils.py:67: UserWarning: No audio backend is available.\n",
      "  warnings.warn('No audio backend is available.')\n",
      "[2021-12-09 23:41:06,669 INFO] Translating shard 0.\n",
      "C:\\Users\\yumem\\PYTHONDATA\\OpenNMT-py\\onmt\\translate\\beam_search.py:161: UserWarning: An output with one or more elements was resized since it had shape [150], which does not match the required output shape [30, 5].This behavior is deprecated, and in a future PyTorch release outputs will not be resized unless they have zero elements. You can explicitly reuse an out tensor t by resizing it, inplace, to zero elements with t.resize_(0). (Triggered internally at  ..\\aten\\src\\ATen\\native\\Resize.cpp:23.)\n",
      "  torch.mul(self.topk_scores, length_penalty, out=self.topk_log_probs)\n",
      "Traceback (most recent call last):\n",
      "  File \"C:\\Users\\yumem\\PYTHONDATA\\OpenNMT-py\\translate.py\", line 49, in <module>\n",
      "    main(opt)\n",
      "  File \"C:\\Users\\yumem\\PYTHONDATA\\OpenNMT-py\\translate.py\", line 27, in main\n",
      "    translator.translate(\n",
      "  File \"C:\\Users\\yumem\\PYTHONDATA\\OpenNMT-py\\onmt\\translate\\translator.py\", line 350, in translate\n",
      "    batch_data = self.translate_batch(\n",
      "  File \"C:\\Users\\yumem\\PYTHONDATA\\OpenNMT-py\\onmt\\translate\\translator.py\", line 537, in translate_batch\n",
      "    return self._translate_batch(\n",
      "  File \"C:\\Users\\yumem\\PYTHONDATA\\OpenNMT-py\\onmt\\translate\\translator.py\", line 695, in _translate_batch\n",
      "    beam.advance(log_probs, attn)\n",
      "  File \"C:\\Users\\yumem\\PYTHONDATA\\OpenNMT-py\\onmt\\translate\\beam_search.py\", line 164, in advance\n",
      "    torch.div(self.topk_ids, vocab_size, out=self._batch_index)\n",
      "RuntimeError: result type Float can't be cast to the desired output type Long\n"
     ]
    }
   ],
   "source": [
    "!python OpenNMT-py/translate.py -model \"C://Users//yumem//PYTHONDATA/OpenNMT/dlg3_model_step_100000.pt\" -src \"C://Users//yumem//PYTHONDATA/OpenNMT/test.src\" -output pred.txt -replace_unk -verbose"
   ]
  },
  {
   "cell_type": "code",
   "execution_count": 1,
   "id": "88220d37",
   "metadata": {},
   "outputs": [
    {
     "name": "stderr",
     "output_type": "stream",
     "text": [
      "C:\\Users\\yumem\\anaconda3\\envs\\cuda11.3\\lib\\site-packages\\torchaudio\\backend\\utils.py:67: UserWarning: No audio backend is available.\n",
      "  warnings.warn('No audio backend is available.')\n",
      "Traceback (most recent call last):\n",
      "  File \"C:\\Users\\yumem\\PYTHONDATA\\OpenNMT-py\\translate.py\", line 49, in <module>\n",
      "    main(opt)\n",
      "  File \"C:\\Users\\yumem\\PYTHONDATA\\OpenNMT-py\\translate.py\", line 19, in main\n",
      "    translator = build_translator(opt, report_score=True)\n",
      "  File \"C:\\Users\\yumem\\PYTHONDATA\\OpenNMT-py\\onmt\\translate\\translator.py\", line 28, in build_translator\n",
      "    fields, model, model_opt = load_test_model(opt)\n",
      "  File \"C:\\Users\\yumem\\PYTHONDATA\\OpenNMT-py\\onmt\\model_builder.py\", line 94, in load_test_model\n",
      "    checkpoint = torch.load(model_path,\n",
      "  File \"C:\\Users\\yumem\\anaconda3\\envs\\cuda11.3\\lib\\site-packages\\torch\\serialization.py\", line 608, in load\n",
      "    return _legacy_load(opened_file, map_location, pickle_module, **pickle_load_args)\n",
      "  File \"C:\\Users\\yumem\\anaconda3\\envs\\cuda11.3\\lib\\site-packages\\torch\\serialization.py\", line 794, in _legacy_load\n",
      "    deserialized_objects[key]._set_from_file(f, offset, f_should_read_directly)\n",
      "RuntimeError: unexpected EOF, expected 413004 more bytes. The file might be corrupted.\n"
     ]
    }
   ],
   "source": [
    "!python OpenNMT-py/translate.py -model \"C://Users//yumem//PYTHONDATA/OpenNMT/dlg_model_step_100000.pt\" -src \"C://Users//yumem//PYTHONDATA/OpenNMT/test.src\" -output pred.txt -replace_unk -verbose"
   ]
  },
  {
   "cell_type": "code",
   "execution_count": 1,
   "id": "e80f83ad",
   "metadata": {},
   "outputs": [
    {
     "name": "stdout",
     "output_type": "stream",
     "text": [
      "Looking in links: https://download.pytorch.org/whl/torch_stable.html\n"
     ]
    },
    {
     "name": "stderr",
     "output_type": "stream",
     "text": [
      "ERROR: Could not find a version that satisfies the requirement torch==1.2.0+cu92 (from versions: 1.4.0, 1.4.0+cpu, 1.4.0+cu92, 1.5.0, 1.5.0+cpu, 1.5.0+cu101, 1.5.0+cu92, 1.5.1, 1.5.1+cpu, 1.5.1+cu101, 1.5.1+cu92, 1.6.0, 1.6.0+cpu, 1.6.0+cu101, 1.7.0, 1.7.0+cpu, 1.7.0+cu101, 1.7.0+cu110, 1.7.1, 1.7.1+cpu, 1.7.1+cu101, 1.7.1+cu110, 1.8.0, 1.8.0+cpu, 1.8.0+cu101, 1.8.0+cu111, 1.8.1, 1.8.1+cpu, 1.8.1+cu101, 1.8.1+cu102, 1.8.1+cu111, 1.9.0, 1.9.0+cpu, 1.9.0+cu102, 1.9.0+cu111, 1.9.1, 1.9.1+cpu, 1.9.1+cu102, 1.9.1+cu111, 1.10.0, 1.10.0+cpu, 1.10.0+cu102, 1.10.0+cu111, 1.10.0+cu113)\n",
      "ERROR: No matching distribution found for torch==1.2.0+cu92\n"
     ]
    }
   ],
   "source": [
    "!pip install torch==1.2.0+cu92 torchvision==0.4.0+cu92 -f https://download.pytorch.org/whl/torch_stable.html"
   ]
  },
  {
   "cell_type": "code",
   "execution_count": 2,
   "id": "9081ffc2",
   "metadata": {},
   "outputs": [
    {
     "name": "stdout",
     "output_type": "stream",
     "text": [
      "Looking in links: https://download.pytorch.org/whl/torch_stable.html\n",
      "Collecting torch==1.9.0+cu102\n",
      "  Downloading https://download.pytorch.org/whl/cu102/torch-1.9.0%2Bcu102-cp38-cp38-win_amd64.whl (1440.4 MB)\n"
     ]
    },
    {
     "name": "stderr",
     "output_type": "stream",
     "text": [
      "ERROR: Exception:\n",
      "Traceback (most recent call last):\n",
      "  File \"C:\\Users\\yumem\\anaconda3\\envs\\ex1\\lib\\site-packages\\pip\\_vendor\\urllib3\\response.py\", line 438, in _error_catcher\n",
      "    yield\n",
      "  File \"C:\\Users\\yumem\\anaconda3\\envs\\ex1\\lib\\site-packages\\pip\\_vendor\\urllib3\\response.py\", line 519, in read\n",
      "    data = self._fp.read(amt) if not fp_closed else b\"\"\n",
      "  File \"C:\\Users\\yumem\\anaconda3\\envs\\ex1\\lib\\site-packages\\pip\\_vendor\\cachecontrol\\filewrapper.py\", line 62, in read\n",
      "    data = self.__fp.read(amt)\n",
      "  File \"C:\\Users\\yumem\\anaconda3\\envs\\ex1\\lib\\http\\client.py\", line 459, in read\n",
      "    n = self.readinto(b)\n",
      "  File \"C:\\Users\\yumem\\anaconda3\\envs\\ex1\\lib\\http\\client.py\", line 503, in readinto\n",
      "    n = self.fp.readinto(b)\n",
      "  File \"C:\\Users\\yumem\\anaconda3\\envs\\ex1\\lib\\socket.py\", line 669, in readinto\n",
      "    return self._sock.recv_into(b)\n",
      "  File \"C:\\Users\\yumem\\anaconda3\\envs\\ex1\\lib\\ssl.py\", line 1241, in recv_into\n",
      "    return self.read(nbytes, buffer)\n",
      "  File \"C:\\Users\\yumem\\anaconda3\\envs\\ex1\\lib\\ssl.py\", line 1099, in read\n",
      "    return self._sslobj.read(len, buffer)\n",
      "socket.timeout: The read operation timed out\n",
      "\n",
      "During handling of the above exception, another exception occurred:\n",
      "\n",
      "Traceback (most recent call last):\n",
      "  File \"C:\\Users\\yumem\\anaconda3\\envs\\ex1\\lib\\site-packages\\pip\\_internal\\cli\\base_command.py\", line 173, in _main\n",
      "    status = self.run(options, args)\n",
      "  File \"C:\\Users\\yumem\\anaconda3\\envs\\ex1\\lib\\site-packages\\pip\\_internal\\cli\\req_command.py\", line 203, in wrapper\n",
      "    return func(self, options, args)\n",
      "  File \"C:\\Users\\yumem\\anaconda3\\envs\\ex1\\lib\\site-packages\\pip\\_internal\\commands\\install.py\", line 315, in run\n",
      "    requirement_set = resolver.resolve(\n",
      "  File \"C:\\Users\\yumem\\anaconda3\\envs\\ex1\\lib\\site-packages\\pip\\_internal\\resolution\\resolvelib\\resolver.py\", line 94, in resolve\n",
      "    result = self._result = resolver.resolve(\n",
      "  File \"C:\\Users\\yumem\\anaconda3\\envs\\ex1\\lib\\site-packages\\pip\\_vendor\\resolvelib\\resolvers.py\", line 472, in resolve\n",
      "    state = resolution.resolve(requirements, max_rounds=max_rounds)\n",
      "  File \"C:\\Users\\yumem\\anaconda3\\envs\\ex1\\lib\\site-packages\\pip\\_vendor\\resolvelib\\resolvers.py\", line 341, in resolve\n",
      "    self._add_to_criteria(self.state.criteria, r, parent=None)\n",
      "  File \"C:\\Users\\yumem\\anaconda3\\envs\\ex1\\lib\\site-packages\\pip\\_vendor\\resolvelib\\resolvers.py\", line 172, in _add_to_criteria\n",
      "    if not criterion.candidates:\n",
      "  File \"C:\\Users\\yumem\\anaconda3\\envs\\ex1\\lib\\site-packages\\pip\\_vendor\\resolvelib\\structs.py\", line 151, in __bool__\n",
      "    return bool(self._sequence)\n",
      "  File \"C:\\Users\\yumem\\anaconda3\\envs\\ex1\\lib\\site-packages\\pip\\_internal\\resolution\\resolvelib\\found_candidates.py\", line 140, in __bool__\n",
      "    return any(self)\n",
      "  File \"C:\\Users\\yumem\\anaconda3\\envs\\ex1\\lib\\site-packages\\pip\\_internal\\resolution\\resolvelib\\found_candidates.py\", line 128, in <genexpr>\n",
      "    return (c for c in iterator if id(c) not in self._incompatible_ids)\n",
      "  File \"C:\\Users\\yumem\\anaconda3\\envs\\ex1\\lib\\site-packages\\pip\\_internal\\resolution\\resolvelib\\found_candidates.py\", line 32, in _iter_built\n",
      "    candidate = func()\n",
      "  File \"C:\\Users\\yumem\\anaconda3\\envs\\ex1\\lib\\site-packages\\pip\\_internal\\resolution\\resolvelib\\factory.py\", line 204, in _make_candidate_from_link\n",
      "    self._link_candidate_cache[link] = LinkCandidate(\n",
      "  File \"C:\\Users\\yumem\\anaconda3\\envs\\ex1\\lib\\site-packages\\pip\\_internal\\resolution\\resolvelib\\candidates.py\", line 295, in __init__\n",
      "    super().__init__(\n",
      "  File \"C:\\Users\\yumem\\anaconda3\\envs\\ex1\\lib\\site-packages\\pip\\_internal\\resolution\\resolvelib\\candidates.py\", line 156, in __init__\n",
      "    self.dist = self._prepare()\n",
      "  File \"C:\\Users\\yumem\\anaconda3\\envs\\ex1\\lib\\site-packages\\pip\\_internal\\resolution\\resolvelib\\candidates.py\", line 227, in _prepare\n",
      "    dist = self._prepare_distribution()\n",
      "  File \"C:\\Users\\yumem\\anaconda3\\envs\\ex1\\lib\\site-packages\\pip\\_internal\\resolution\\resolvelib\\candidates.py\", line 305, in _prepare_distribution\n",
      "    return self._factory.preparer.prepare_linked_requirement(\n",
      "  File \"C:\\Users\\yumem\\anaconda3\\envs\\ex1\\lib\\site-packages\\pip\\_internal\\operations\\prepare.py\", line 508, in prepare_linked_requirement\n",
      "    return self._prepare_linked_requirement(req, parallel_builds)\n",
      "  File \"C:\\Users\\yumem\\anaconda3\\envs\\ex1\\lib\\site-packages\\pip\\_internal\\operations\\prepare.py\", line 550, in _prepare_linked_requirement\n",
      "    local_file = unpack_url(\n",
      "  File \"C:\\Users\\yumem\\anaconda3\\envs\\ex1\\lib\\site-packages\\pip\\_internal\\operations\\prepare.py\", line 239, in unpack_url\n",
      "    file = get_http_url(\n",
      "  File \"C:\\Users\\yumem\\anaconda3\\envs\\ex1\\lib\\site-packages\\pip\\_internal\\operations\\prepare.py\", line 102, in get_http_url\n",
      "    from_path, content_type = download(link, temp_dir.path)\n",
      "  File \"C:\\Users\\yumem\\anaconda3\\envs\\ex1\\lib\\site-packages\\pip\\_internal\\network\\download.py\", line 145, in __call__\n",
      "    for chunk in chunks:\n",
      "  File \"C:\\Users\\yumem\\anaconda3\\envs\\ex1\\lib\\site-packages\\pip\\_internal\\cli\\progress_bars.py\", line 144, in iter\n",
      "    for x in it:\n",
      "  File \"C:\\Users\\yumem\\anaconda3\\envs\\ex1\\lib\\site-packages\\pip\\_internal\\network\\utils.py\", line 63, in response_chunks\n",
      "    for chunk in response.raw.stream(\n",
      "  File \"C:\\Users\\yumem\\anaconda3\\envs\\ex1\\lib\\site-packages\\pip\\_vendor\\urllib3\\response.py\", line 576, in stream\n",
      "    data = self.read(amt=amt, decode_content=decode_content)\n",
      "  File \"C:\\Users\\yumem\\anaconda3\\envs\\ex1\\lib\\site-packages\\pip\\_vendor\\urllib3\\response.py\", line 541, in read\n",
      "    raise IncompleteRead(self._fp_bytes_read, self.length_remaining)\n",
      "  File \"C:\\Users\\yumem\\anaconda3\\envs\\ex1\\lib\\contextlib.py\", line 131, in __exit__\n",
      "    self.gen.throw(type, value, traceback)\n",
      "  File \"C:\\Users\\yumem\\anaconda3\\envs\\ex1\\lib\\site-packages\\pip\\_vendor\\urllib3\\response.py\", line 443, in _error_catcher\n",
      "    raise ReadTimeoutError(self._pool, None, \"Read timed out.\")\n",
      "pip._vendor.urllib3.exceptions.ReadTimeoutError: HTTPSConnectionPool(host='download.pytorch.org', port=443): Read timed out.\n"
     ]
    }
   ],
   "source": [
    "!pip install torch==1.9.0+cu102 torchvision==0.10.0+cu102 torchaudio===0.9.0 -f https://download.pytorch.org/whl/torch_stable.html"
   ]
  },
  {
   "cell_type": "code",
   "execution_count": null,
   "id": "e77e0847",
   "metadata": {},
   "outputs": [],
   "source": []
  }
 ],
 "metadata": {
  "kernelspec": {
   "display_name": "Python 3 (ipykernel)",
   "language": "python",
   "name": "python3"
  },
  "language_info": {
   "codemirror_mode": {
    "name": "ipython",
    "version": 3
   },
   "file_extension": ".py",
   "mimetype": "text/x-python",
   "name": "python",
   "nbconvert_exporter": "python",
   "pygments_lexer": "ipython3",
   "version": "3.9.7"
  }
 },
 "nbformat": 4,
 "nbformat_minor": 5
}
