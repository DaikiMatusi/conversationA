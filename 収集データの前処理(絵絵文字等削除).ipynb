{
 "cells": [
  {
   "cell_type": "code",
   "execution_count": 7,
   "id": "fbbfaadb",
   "metadata": {},
   "outputs": [
    {
     "ename": "SyntaxError",
     "evalue": "invalid syntax (Temp/ipykernel_8188/3181741858.py, line 1)",
     "output_type": "error",
     "traceback": [
      "\u001b[1;36m  File \u001b[1;32m\"C:\\Users\\yumem\\AppData\\Local\\Temp/ipykernel_8188/3181741858.py\"\u001b[1;36m, line \u001b[1;32m1\u001b[0m\n\u001b[1;33m    pip3 install nagisa demoji emoji\u001b[0m\n\u001b[1;37m         ^\u001b[0m\n\u001b[1;31mSyntaxError\u001b[0m\u001b[1;31m:\u001b[0m invalid syntax\n"
     ]
    }
   ],
   "source": [
    "#!pip install nagisa demoji emoji"
   ]
  },
  {
   "cell_type": "code",
   "execution_count": 10,
   "id": "1c9c9173",
   "metadata": {},
   "outputs": [
    {
     "ename": "ModuleNotFoundError",
     "evalue": "No module named 'nagisa'",
     "output_type": "error",
     "traceback": [
      "\u001b[1;31m---------------------------------------------------------------------------\u001b[0m",
      "\u001b[1;31mModuleNotFoundError\u001b[0m                       Traceback (most recent call last)",
      "\u001b[1;32m~\\AppData\\Local\\Temp/ipykernel_17888/2202362665.py\u001b[0m in \u001b[0;36m<module>\u001b[1;34m\u001b[0m\n\u001b[0;32m      1\u001b[0m \u001b[1;32mimport\u001b[0m \u001b[0mre\u001b[0m\u001b[1;33m\u001b[0m\u001b[1;33m\u001b[0m\u001b[0m\n\u001b[0;32m      2\u001b[0m \u001b[1;32mimport\u001b[0m \u001b[0mdemoji\u001b[0m\u001b[1;33m\u001b[0m\u001b[1;33m\u001b[0m\u001b[0m\n\u001b[1;32m----> 3\u001b[1;33m \u001b[1;32mimport\u001b[0m \u001b[0mnagisa\u001b[0m\u001b[1;33m\u001b[0m\u001b[1;33m\u001b[0m\u001b[0m\n\u001b[0m\u001b[0;32m      4\u001b[0m \u001b[1;32mimport\u001b[0m \u001b[0municodedata\u001b[0m\u001b[1;33m\u001b[0m\u001b[1;33m\u001b[0m\u001b[0m\n\u001b[0;32m      5\u001b[0m \u001b[1;32mimport\u001b[0m \u001b[0memoji\u001b[0m\u001b[1;33m\u001b[0m\u001b[1;33m\u001b[0m\u001b[0m\n",
      "\u001b[1;31mModuleNotFoundError\u001b[0m: No module named 'nagisa'"
     ]
    }
   ],
   "source": [
    "import re\n",
    "import demoji\n",
    "import nagisa\n",
    "import unicodedata\n",
    "import emoji\n",
    " \n",
    "KAOMOJI_LEN = 3\n",
    " \n",
    "#3文字以上の顔文字の削除\n",
    "def extract_kaomoji(text):\n",
    "  results = nagisa.extract(text, extract_postags=['補助記号'])\n",
    "  words = results.words\n",
    "  kaomoji_words = []\n",
    "  kaomoji_idx = [i for i, w in enumerate(words) if len(w) >= KAOMOJI_LEN]\n",
    "  kaomoji_hands = ['ノ', 'ヽ', '∑', 'm', 'O', 'o', '┐', '/', '\\\\', '┌'] \n",
    "  # 顔文字と手を検索\n",
    "  for i in kaomoji_idx:\n",
    "      kaomoji = words[i] # 顔文字列\n",
    "      try:\n",
    "         # 顔文字の左手\n",
    "         if words[i-1] in kaomoji_hands and 0 < i:\n",
    "            kaomoji = words[i-1] + kaomoji\n",
    "         # 顔文字の右手\n",
    "         if words[i+1] in kaomoji_hands:\n",
    "            kaomoji = kaomoji + words[i+1]\n",
    "      except IndexError:\n",
    "         pass\n",
    "      finally:\n",
    "         kaomoji_words.append(kaomoji)\n",
    "  return kaomoji_words\n",
    " \n",
    "#絵文字の削除\n",
    "def extract_emoji(text):\n",
    "    results = nagisa.tagging(text) # 形態素解析\n",
    "    words = results.words\n",
    "    return [w for w in words if w in emoji.UNICODE_EMOJI]\n",
    " \n",
    "def delete(text, target_list):\n",
    "    for trg in target_list:\n",
    "        text = text.replace(trg, \"\")\n",
    "    return text\n",
    " \n",
    "with open(\"tweet_triples.txt\",\"r\") as f:\n",
    "    for i,text in enumerate(f):\n",
    "        if i % 100 == 0:\n",
    "            print(str(i) + \"行完了\")\n",
    "        text = unicodedata.normalize('NFKC', text) # NFKC正規化\n",
    " \n",
    "        # 抽出\n",
    "        kaomoji_list = extract_kaomoji(text)\n",
    "        emoji_list = extract_emoji(text)\n",
    " \n",
    "        text_1 = delete(text, kaomoji_list + emoji_list)\n",
    " \n",
    "        #'！'の削除\n",
    "        new_text = re.sub(\"\\!|\\'|\\?|\\〜\",'',text_1,flags=re.MULTILINE)\n",
    "        new_text = demoji.replace(string=new_text, repl='')\n",
    "        new_text = re.sub(r'[0-9]+', \"1\", new_text)\n",
    " \n",
    "        with open('cleaned_tweet_triples.txt','a') as f:\n",
    "            f.write(new_text)\n",
    "\n"
   ]
  },
  {
   "cell_type": "code",
   "execution_count": 4,
   "id": "10287d12",
   "metadata": {},
   "outputs": [
    {
     "name": "stdout",
     "output_type": "stream",
     "text": [
      "Requirement already satisfied: demoji in c:\\users\\yumem\\anaconda3\\envs\\py37\\lib\\site-packages (1.1.0)\n"
     ]
    }
   ],
   "source": [
    "!pip install demoji"
   ]
  },
  {
   "cell_type": "code",
   "execution_count": 5,
   "id": "47322c08",
   "metadata": {},
   "outputs": [
    {
     "name": "stdout",
     "output_type": "stream",
     "text": [
      "Collecting package metadata (current_repodata.json): ...working... done\n",
      "Solving environment: ...working... failed with initial frozen solve. Retrying with flexible solve.\n",
      "Collecting package metadata (repodata.json): ...working... done\n",
      "\n",
      "Note: you may need to restart the kernel to use updated packages.Solving environment: ...working... failed with initial frozen solve. Retrying with flexible solve.\n"
     ]
    },
    {
     "name": "stderr",
     "output_type": "stream",
     "text": [
      "\n",
      "PackagesNotFoundError: The following packages are not available from current channels:\n",
      "\n",
      "  - demoji\n",
      "\n",
      "Current channels:\n",
      "\n",
      "  - https://repo.anaconda.com/pkgs/main/win-64\n",
      "  - https://repo.anaconda.com/pkgs/main/noarch\n",
      "  - https://repo.anaconda.com/pkgs/r/win-64\n",
      "  - https://repo.anaconda.com/pkgs/r/noarch\n",
      "  - https://repo.anaconda.com/pkgs/msys2/win-64\n",
      "  - https://repo.anaconda.com/pkgs/msys2/noarch\n"
     ]
    },
    {
     "name": "stdout",
     "output_type": "stream",
     "text": [
      "\n"
     ]
    },
    {
     "name": "stderr",
     "output_type": "stream",
     "text": [
      "\n",
      "To search for alternate channels that may provide the conda package you're\n",
      "looking for, navigate to\n",
      "\n",
      "    https://anaconda.org\n",
      "\n",
      "and use the search bar at the top of the page.\n",
      "\n",
      "\n"
     ]
    }
   ],
   "source": [
    "conda install demoji"
   ]
  },
  {
   "cell_type": "code",
   "execution_count": 6,
   "id": "01d5320c",
   "metadata": {},
   "outputs": [
    {
     "name": "stdout",
     "output_type": "stream",
     "text": [
      "Collecting demoji\n",
      "  Using cached demoji-1.1.0-py3-none-any.whl (42 kB)\n",
      "Installing collected packages: demoji\n",
      "Successfully installed demoji-1.1.0\n",
      "Note: you may need to restart the kernel to use updated packages.\n"
     ]
    }
   ],
   "source": [
    "pip install demoji"
   ]
  },
  {
   "cell_type": "code",
   "execution_count": 9,
   "id": "bbbdb24c",
   "metadata": {},
   "outputs": [
    {
     "name": "stdout",
     "output_type": "stream",
     "text": [
      "Requirement already satisfied: nagisa in c:\\users\\yumem\\anaconda3\\envs\\py37\\lib\\site-packages (0.2.7)\n",
      "Requirement already satisfied: six in c:\\users\\yumem\\anaconda3\\envs\\py37\\lib\\site-packages (from nagisa) (1.16.0)\n",
      "Requirement already satisfied: numpy in c:\\users\\yumem\\anaconda3\\envs\\py37\\lib\\site-packages (from nagisa) (1.21.5)\n",
      "Requirement already satisfied: DyNet in c:\\users\\yumem\\anaconda3\\envs\\py37\\lib\\site-packages (from nagisa) (2.1.2)\n",
      "Requirement already satisfied: cython in c:\\users\\yumem\\anaconda3\\envs\\py37\\lib\\site-packages (from DyNet->nagisa) (0.29.26)\n"
     ]
    }
   ],
   "source": [
    "!pip install nagisa"
   ]
  },
  {
   "cell_type": "code",
   "execution_count": null,
   "id": "a5f89b6b",
   "metadata": {},
   "outputs": [],
   "source": [
    "conda install h5py"
   ]
  }
 ],
 "metadata": {
  "kernelspec": {
   "display_name": "Python 3 (ipykernel)",
   "language": "python",
   "name": "python3"
  },
  "language_info": {
   "codemirror_mode": {
    "name": "ipython",
    "version": 3
   },
   "file_extension": ".py",
   "mimetype": "text/x-python",
   "name": "python",
   "nbconvert_exporter": "python",
   "pygments_lexer": "ipython3",
   "version": "3.9.7"
  }
 },
 "nbformat": 4,
 "nbformat_minor": 5
}
