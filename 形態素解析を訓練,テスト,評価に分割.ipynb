{
 "cells": [
  {
   "cell_type": "code",
   "execution_count": 1,
   "id": "5cdae5ba",
   "metadata": {},
   "outputs": [
    {
     "name": "stderr",
     "output_type": "stream",
     "text": [
      "[2022-01-14 21:24:59,038 INFO] Extracting features...\n",
      "[2022-01-14 21:24:59,039 INFO]  * number of source features: 0.\n",
      "[2022-01-14 21:24:59,039 INFO]  * number of target features: 0.\n",
      "[2022-01-14 21:24:59,039 INFO] Building `Fields` object...\n",
      "[2022-01-14 21:24:59,039 INFO] Building & saving training data...\n",
      "[2022-01-14 21:24:59,039 INFO] Reading source and target files: train.src train.tgt.\n",
      "[2022-01-14 21:24:59,275 INFO] Building shard 0.\n",
      "[2022-01-14 21:25:13,488 INFO]  * saving 0th train data shard to dlg3.train.0.pt.\n",
      "[2022-01-14 21:25:23,485 INFO]  * tgt vocab size: 50004.\n",
      "[2022-01-14 21:25:23,705 INFO]  * src vocab size: 50002.\n",
      "[2022-01-14 21:25:24,107 INFO] Building & saving validation data...\n",
      "[2022-01-14 21:25:24,107 INFO] Reading source and target files: dev.src dev.tgt.\n",
      "[2022-01-14 21:25:24,110 INFO] Building shard 0.\n",
      "[2022-01-14 21:25:24,136 INFO]  * saving 0th valid data shard to dlg3.valid.0.pt.\n"
     ]
    }
   ],
   "source": [
    "!python OpenNMT-py/preprocess.py -train_src \"train.src\" -train_tgt \"train.tgt\" \\\n",
    " -valid_src \"dev.src\" -valid_tgt \"dev.tgt\" -save_data dlg3"
   ]
  },
  {
   "cell_type": "code",
   "execution_count": 3,
   "id": "37931518",
   "metadata": {},
   "outputs": [
    {
     "name": "stdout",
     "output_type": "stream",
     "text": [
      "Collecting OpenNMT-py==1.0.0\n",
      "  Using cached OpenNMT_py-1.0.0-py3-none-any.whl (181 kB)\n",
      "Requirement already satisfied: flask in c:\\users\\yumem\\anaconda3\\envs\\cuda11.3\\lib\\site-packages (from OpenNMT-py==1.0.0) (1.1.2)\n",
      "Requirement already satisfied: tensorboard>=1.14 in c:\\users\\yumem\\anaconda3\\envs\\cuda11.3\\lib\\site-packages (from OpenNMT-py==1.0.0) (2.7.0)\n",
      "Collecting future\n",
      "  Using cached future-0.18.2.tar.gz (829 kB)\n",
      "Requirement already satisfied: configargparse in c:\\users\\yumem\\anaconda3\\envs\\cuda11.3\\lib\\site-packages (from OpenNMT-py==1.0.0) (1.5.3)\n",
      "Collecting tqdm~=4.30.0\n",
      "  Using cached tqdm-4.30.0-py2.py3-none-any.whl (47 kB)\n",
      "Collecting torchtext==0.4.0\n",
      "  Using cached torchtext-0.4.0-py3-none-any.whl (53 kB)\n",
      "Requirement already satisfied: six in c:\\users\\yumem\\anaconda3\\envs\\cuda11.3\\lib\\site-packages (from OpenNMT-py==1.0.0) (1.15.0)\n",
      "Requirement already satisfied: torch>=1.2 in c:\\users\\yumem\\anaconda3\\envs\\cuda11.3\\lib\\site-packages (from OpenNMT-py==1.0.0) (1.10.0)\n",
      "Requirement already satisfied: numpy in c:\\users\\yumem\\anaconda3\\envs\\cuda11.3\\lib\\site-packages (from torchtext==0.4.0->OpenNMT-py==1.0.0) (1.21.2)\n",
      "Requirement already satisfied: requests in c:\\users\\yumem\\anaconda3\\envs\\cuda11.3\\lib\\site-packages (from torchtext==0.4.0->OpenNMT-py==1.0.0) (2.26.0)\n",
      "Requirement already satisfied: absl-py>=0.4 in c:\\users\\yumem\\anaconda3\\envs\\cuda11.3\\lib\\site-packages (from tensorboard>=1.14->OpenNMT-py==1.0.0) (0.15.0)\n",
      "Requirement already satisfied: markdown>=2.6.8 in c:\\users\\yumem\\anaconda3\\envs\\cuda11.3\\lib\\site-packages (from tensorboard>=1.14->OpenNMT-py==1.0.0) (3.3.6)\n",
      "Requirement already satisfied: setuptools>=41.0.0 in c:\\users\\yumem\\anaconda3\\envs\\cuda11.3\\lib\\site-packages (from tensorboard>=1.14->OpenNMT-py==1.0.0) (58.0.4)\n",
      "Requirement already satisfied: protobuf>=3.6.0 in c:\\users\\yumem\\anaconda3\\envs\\cuda11.3\\lib\\site-packages (from tensorboard>=1.14->OpenNMT-py==1.0.0) (3.19.1)\n",
      "Requirement already satisfied: tensorboard-plugin-wit>=1.6.0 in c:\\users\\yumem\\anaconda3\\envs\\cuda11.3\\lib\\site-packages (from tensorboard>=1.14->OpenNMT-py==1.0.0) (1.8.0)\n",
      "Requirement already satisfied: google-auth<3,>=1.6.3 in c:\\users\\yumem\\anaconda3\\envs\\cuda11.3\\lib\\site-packages (from tensorboard>=1.14->OpenNMT-py==1.0.0) (2.3.3)\n",
      "Requirement already satisfied: wheel>=0.26 in c:\\users\\yumem\\anaconda3\\envs\\cuda11.3\\lib\\site-packages (from tensorboard>=1.14->OpenNMT-py==1.0.0) (0.37.0)\n",
      "Requirement already satisfied: google-auth-oauthlib<0.5,>=0.4.1 in c:\\users\\yumem\\anaconda3\\envs\\cuda11.3\\lib\\site-packages (from tensorboard>=1.14->OpenNMT-py==1.0.0) (0.4.6)\n",
      "Requirement already satisfied: werkzeug>=0.11.15 in c:\\users\\yumem\\anaconda3\\envs\\cuda11.3\\lib\\site-packages (from tensorboard>=1.14->OpenNMT-py==1.0.0) (2.0.2)\n",
      "Requirement already satisfied: grpcio>=1.24.3 in c:\\users\\yumem\\anaconda3\\envs\\cuda11.3\\lib\\site-packages (from tensorboard>=1.14->OpenNMT-py==1.0.0) (1.34.1)\n",
      "Requirement already satisfied: tensorboard-data-server<0.7.0,>=0.6.0 in c:\\users\\yumem\\anaconda3\\envs\\cuda11.3\\lib\\site-packages (from tensorboard>=1.14->OpenNMT-py==1.0.0) (0.6.1)\n",
      "Requirement already satisfied: rsa<5,>=3.1.4 in c:\\users\\yumem\\anaconda3\\envs\\cuda11.3\\lib\\site-packages (from google-auth<3,>=1.6.3->tensorboard>=1.14->OpenNMT-py==1.0.0) (4.8)\n",
      "Requirement already satisfied: cachetools<5.0,>=2.0.0 in c:\\users\\yumem\\anaconda3\\envs\\cuda11.3\\lib\\site-packages (from google-auth<3,>=1.6.3->tensorboard>=1.14->OpenNMT-py==1.0.0) (4.2.4)\n",
      "Requirement already satisfied: pyasn1-modules>=0.2.1 in c:\\users\\yumem\\anaconda3\\envs\\cuda11.3\\lib\\site-packages (from google-auth<3,>=1.6.3->tensorboard>=1.14->OpenNMT-py==1.0.0) (0.2.8)\n",
      "Requirement already satisfied: requests-oauthlib>=0.7.0 in c:\\users\\yumem\\anaconda3\\envs\\cuda11.3\\lib\\site-packages (from google-auth-oauthlib<0.5,>=0.4.1->tensorboard>=1.14->OpenNMT-py==1.0.0) (1.3.0)\n",
      "Requirement already satisfied: importlib-metadata>=4.4 in c:\\users\\yumem\\anaconda3\\envs\\cuda11.3\\lib\\site-packages (from markdown>=2.6.8->tensorboard>=1.14->OpenNMT-py==1.0.0) (4.8.1)\n",
      "Requirement already satisfied: zipp>=0.5 in c:\\users\\yumem\\anaconda3\\envs\\cuda11.3\\lib\\site-packages (from importlib-metadata>=4.4->markdown>=2.6.8->tensorboard>=1.14->OpenNMT-py==1.0.0) (3.6.0)\n",
      "Requirement already satisfied: pyasn1<0.5.0,>=0.4.6 in c:\\users\\yumem\\anaconda3\\envs\\cuda11.3\\lib\\site-packages (from pyasn1-modules>=0.2.1->google-auth<3,>=1.6.3->tensorboard>=1.14->OpenNMT-py==1.0.0) (0.4.8)\n",
      "Requirement already satisfied: idna<4,>=2.5 in c:\\users\\yumem\\anaconda3\\envs\\cuda11.3\\lib\\site-packages (from requests->torchtext==0.4.0->OpenNMT-py==1.0.0) (3.2)\n",
      "Requirement already satisfied: certifi>=2017.4.17 in c:\\users\\yumem\\anaconda3\\envs\\cuda11.3\\lib\\site-packages (from requests->torchtext==0.4.0->OpenNMT-py==1.0.0) (2021.10.8)\n",
      "Requirement already satisfied: charset-normalizer~=2.0.0 in c:\\users\\yumem\\anaconda3\\envs\\cuda11.3\\lib\\site-packages (from requests->torchtext==0.4.0->OpenNMT-py==1.0.0) (2.0.4)\n",
      "Requirement already satisfied: urllib3<1.27,>=1.21.1 in c:\\users\\yumem\\anaconda3\\envs\\cuda11.3\\lib\\site-packages (from requests->torchtext==0.4.0->OpenNMT-py==1.0.0) (1.26.7)\n",
      "Requirement already satisfied: oauthlib>=3.0.0 in c:\\users\\yumem\\anaconda3\\envs\\cuda11.3\\lib\\site-packages (from requests-oauthlib>=0.7.0->google-auth-oauthlib<0.5,>=0.4.1->tensorboard>=1.14->OpenNMT-py==1.0.0) (3.1.1)\n",
      "Requirement already satisfied: typing_extensions in c:\\users\\yumem\\anaconda3\\envs\\cuda11.3\\lib\\site-packages (from torch>=1.2->OpenNMT-py==1.0.0) (3.7.4.3)\n",
      "Requirement already satisfied: itsdangerous>=0.24 in c:\\users\\yumem\\anaconda3\\envs\\cuda11.3\\lib\\site-packages (from flask->OpenNMT-py==1.0.0) (2.0.1)\n",
      "Requirement already satisfied: Jinja2>=2.10.1 in c:\\users\\yumem\\anaconda3\\envs\\cuda11.3\\lib\\site-packages (from flask->OpenNMT-py==1.0.0) (2.11.3)\n",
      "Requirement already satisfied: click>=5.1 in c:\\users\\yumem\\anaconda3\\envs\\cuda11.3\\lib\\site-packages (from flask->OpenNMT-py==1.0.0) (8.0.3)\n",
      "Requirement already satisfied: colorama in c:\\users\\yumem\\anaconda3\\envs\\cuda11.3\\lib\\site-packages (from click>=5.1->flask->OpenNMT-py==1.0.0) (0.4.4)\n",
      "Requirement already satisfied: MarkupSafe>=0.23 in c:\\users\\yumem\\anaconda3\\envs\\cuda11.3\\lib\\site-packages (from Jinja2>=2.10.1->flask->OpenNMT-py==1.0.0) (1.1.1)\n",
      "Building wheels for collected packages: future\n",
      "  Building wheel for future (setup.py): started\n",
      "  Building wheel for future (setup.py): finished with status 'done'\n",
      "  Created wheel for future: filename=future-0.18.2-py3-none-any.whl size=491070 sha256=7e999a247cf8e81c6bca472b810fa969f2f74ad15f0c77bfe880675df4847376\n",
      "  Stored in directory: c:\\users\\yumem\\appdata\\local\\pip\\cache\\wheels\\2f\\a0\\d3\\4030d9f80e6b3be787f19fc911b8e7aa462986a40ab1e4bb94\n",
      "Successfully built future\n",
      "Installing collected packages: tqdm, torchtext, future, OpenNMT-py\n",
      "  Attempting uninstall: tqdm\n",
      "    Found existing installation: tqdm 4.62.3\n",
      "    Uninstalling tqdm-4.62.3:\n",
      "      Successfully uninstalled tqdm-4.62.3\n",
      "  Attempting uninstall: torchtext\n",
      "    Found existing installation: torchtext 0.5.0\n",
      "    Uninstalling torchtext-0.5.0:\n",
      "      Successfully uninstalled torchtext-0.5.0\n",
      "  Attempting uninstall: OpenNMT-py\n",
      "    Found existing installation: OpenNMT-py 2.2.0\n",
      "    Uninstalling OpenNMT-py-2.2.0:\n",
      "      Successfully uninstalled OpenNMT-py-2.2.0\n",
      "Successfully installed OpenNMT-py-1.0.0 future-0.18.2 torchtext-0.4.0 tqdm-4.30.0\n"
     ]
    }
   ],
   "source": [
    "!pip install OpenNMT-py==1.0.0"
   ]
  },
  {
   "cell_type": "code",
   "execution_count": 4,
   "id": "f2d0401e",
   "metadata": {},
   "outputs": [
    {
     "name": "stderr",
     "output_type": "stream",
     "text": [
      "Cloning into 'OpenNMT-py'...\n",
      "Note: switching to '97ad4c66997d6d4d80290f66ddc3f5dab6557ab5'.\n",
      "\n",
      "You are in 'detached HEAD' state. You can look around, make experimental\n",
      "changes and commit them, and you can discard any commits you make in this\n",
      "state without impacting any branches by switching back to a branch.\n",
      "\n",
      "If you want to create a new branch to retain commits you create, you may\n",
      "do so (now or later) by using -c with the switch command. Example:\n",
      "\n",
      "  git switch -c <new-branch-name>\n",
      "\n",
      "Or undo this operation with:\n",
      "\n",
      "  git switch -\n",
      "\n",
      "Turn off this advice by setting config variable advice.detachedHead to false\n",
      "\n"
     ]
    }
   ],
   "source": [
    "!git clone https://github.com/OpenNMT/OpenNMT-py.git -b 0.9.2"
   ]
  },
  {
   "cell_type": "code",
   "execution_count": 8,
   "id": "f4a6864b",
   "metadata": {},
   "outputs": [
    {
     "name": "stdout",
     "output_type": "stream",
     "text": [
      "Collecting PySoundFile\n",
      "  Downloading PySoundFile-0.9.0.post1-py2.py3.cp26.cp27.cp32.cp33.cp34.cp35.cp36.pp27.pp32.pp33-none-win_amd64.whl (671 kB)\n",
      "Requirement already satisfied: cffi>=0.6 in c:\\users\\yumem\\anaconda3\\envs\\cuda11.3\\lib\\site-packages (from PySoundFile) (1.15.0)\n",
      "Requirement already satisfied: pycparser in c:\\users\\yumem\\anaconda3\\envs\\cuda11.3\\lib\\site-packages (from cffi>=0.6->PySoundFile) (2.21)\n",
      "Installing collected packages: PySoundFile\n",
      "Successfully installed PySoundFile-0.9.0.post1\n",
      "Note: you may need to restart the kernel to use updated packages.\n"
     ]
    }
   ],
   "source": [
    "pip install PySoundFile"
   ]
  },
  {
   "cell_type": "code",
   "execution_count": null,
   "id": "ec3aba44",
   "metadata": {},
   "outputs": [],
   "source": []
  }
 ],
 "metadata": {
  "kernelspec": {
   "display_name": "Python 3 (ipykernel)",
   "language": "python",
   "name": "python3"
  },
  "language_info": {
   "codemirror_mode": {
    "name": "ipython",
    "version": 3
   },
   "file_extension": ".py",
   "mimetype": "text/x-python",
   "name": "python",
   "nbconvert_exporter": "python",
   "pygments_lexer": "ipython3",
   "version": "3.9.7"
  }
 },
 "nbformat": 4,
 "nbformat_minor": 5
}
